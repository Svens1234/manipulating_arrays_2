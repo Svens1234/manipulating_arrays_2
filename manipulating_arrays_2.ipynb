{
 "cells": [
  {
   "cell_type": "code",
   "execution_count": 3,
   "id": "9fda905e",
   "metadata": {},
   "outputs": [],
   "source": [
    "import numpy as np"
   ]
  },
  {
   "cell_type": "code",
   "execution_count": 2,
   "id": "070bf254",
   "metadata": {},
   "outputs": [],
   "source": [
    "random_array_4=np.random.randint(10,size=(5,3))"
   ]
  },
  {
   "cell_type": "code",
   "execution_count": 3,
   "id": "329b2c1e",
   "metadata": {},
   "outputs": [
    {
     "data": {
      "text/plain": [
       "array([[9, 7, 4],\n",
       "       [9, 4, 2],\n",
       "       [6, 7, 2],\n",
       "       [3, 6, 8],\n",
       "       [3, 4, 6]])"
      ]
     },
     "execution_count": 3,
     "metadata": {},
     "output_type": "execute_result"
    }
   ],
   "source": [
    "random_array_4"
   ]
  },
  {
   "cell_type": "code",
   "execution_count": 4,
   "id": "9bb73045",
   "metadata": {},
   "outputs": [
    {
     "data": {
      "text/plain": [
       "array([2, 3, 4, 6, 7, 8, 9])"
      ]
     },
     "execution_count": 4,
     "metadata": {},
     "output_type": "execute_result"
    }
   ],
   "source": [
    "np.unique(random_array_4)"
   ]
  },
  {
   "cell_type": "code",
   "execution_count": 4,
   "id": "e31ec5d4",
   "metadata": {},
   "outputs": [],
   "source": [
    "a1=np.array([1,2,3])"
   ]
  },
  {
   "cell_type": "code",
   "execution_count": 18,
   "id": "0c974c68",
   "metadata": {},
   "outputs": [],
   "source": [
    "a2=np.array([[1,2.0,3.3],\n",
    "            [4,5,6.5]])"
   ]
  },
  {
   "cell_type": "code",
   "execution_count": 22,
   "id": "d76c7892",
   "metadata": {},
   "outputs": [],
   "source": [
    "a3=np.array([[[1,2,3],\n",
    "             [4,5,6],\n",
    "             [7,8,9]],\n",
    "             [[10,11,12],\n",
    "             [13,14,15],\n",
    "             [16,17,18]]])"
   ]
  },
  {
   "cell_type": "code",
   "execution_count": 8,
   "id": "6d79159d",
   "metadata": {},
   "outputs": [
    {
     "data": {
      "text/plain": [
       "1"
      ]
     },
     "execution_count": 8,
     "metadata": {},
     "output_type": "execute_result"
    }
   ],
   "source": [
    "a1[0]"
   ]
  },
  {
   "cell_type": "code",
   "execution_count": 9,
   "id": "b43d5bdc",
   "metadata": {},
   "outputs": [
    {
     "data": {
      "text/plain": [
       "array([1. , 2. , 3.3])"
      ]
     },
     "execution_count": 9,
     "metadata": {},
     "output_type": "execute_result"
    }
   ],
   "source": [
    "a2[0]"
   ]
  },
  {
   "cell_type": "code",
   "execution_count": 10,
   "id": "62fa3422",
   "metadata": {},
   "outputs": [
    {
     "data": {
      "text/plain": [
       "(2, 3)"
      ]
     },
     "execution_count": 10,
     "metadata": {},
     "output_type": "execute_result"
    }
   ],
   "source": [
    "a2.shape"
   ]
  },
  {
   "cell_type": "code",
   "execution_count": 11,
   "id": "715e8d62",
   "metadata": {},
   "outputs": [
    {
     "data": {
      "text/plain": [
       "(2, 3, 3)"
      ]
     },
     "execution_count": 11,
     "metadata": {},
     "output_type": "execute_result"
    }
   ],
   "source": [
    "a3.shape"
   ]
  },
  {
   "cell_type": "code",
   "execution_count": 12,
   "id": "c4610e55",
   "metadata": {},
   "outputs": [
    {
     "data": {
      "text/plain": [
       "array([[1, 2, 3],\n",
       "       [4, 5, 6],\n",
       "       [7, 8, 9]])"
      ]
     },
     "execution_count": 12,
     "metadata": {},
     "output_type": "execute_result"
    }
   ],
   "source": [
    "a3[0]"
   ]
  },
  {
   "cell_type": "code",
   "execution_count": 13,
   "id": "a6398bce",
   "metadata": {},
   "outputs": [
    {
     "data": {
      "text/plain": [
       "array([[1. , 2. , 3.3],\n",
       "       [4. , 5. , 6.5]])"
      ]
     },
     "execution_count": 13,
     "metadata": {},
     "output_type": "execute_result"
    }
   ],
   "source": [
    "a2"
   ]
  },
  {
   "cell_type": "code",
   "execution_count": 14,
   "id": "29d7103f",
   "metadata": {},
   "outputs": [
    {
     "data": {
      "text/plain": [
       "array([4. , 5. , 6.5])"
      ]
     },
     "execution_count": 14,
     "metadata": {},
     "output_type": "execute_result"
    }
   ],
   "source": [
    "a2[1]"
   ]
  },
  {
   "cell_type": "code",
   "execution_count": 15,
   "id": "63439229",
   "metadata": {},
   "outputs": [
    {
     "data": {
      "text/plain": [
       "array([[[ 1,  2,  3],\n",
       "        [ 4,  5,  6],\n",
       "        [ 7,  8,  9]],\n",
       "\n",
       "       [[10, 11, 12],\n",
       "        [13, 14, 15],\n",
       "        [16, 17, 18]]])"
      ]
     },
     "execution_count": 15,
     "metadata": {},
     "output_type": "execute_result"
    }
   ],
   "source": [
    "a3"
   ]
  },
  {
   "cell_type": "code",
   "execution_count": 17,
   "id": "e82932f5",
   "metadata": {},
   "outputs": [
    {
     "data": {
      "text/plain": [
       "array([[[ 1,  2],\n",
       "        [ 4,  5]],\n",
       "\n",
       "       [[10, 11],\n",
       "        [13, 14]]])"
      ]
     },
     "execution_count": 17,
     "metadata": {},
     "output_type": "execute_result"
    }
   ],
   "source": [
    "a3[:2, :2, :2]"
   ]
  },
  {
   "cell_type": "code",
   "execution_count": 18,
   "id": "d4941905",
   "metadata": {},
   "outputs": [],
   "source": [
    "a4=np.random.randint(10, size=(2,3,4,5))"
   ]
  },
  {
   "cell_type": "code",
   "execution_count": 19,
   "id": "477fc03f",
   "metadata": {},
   "outputs": [
    {
     "data": {
      "text/plain": [
       "array([[[[8, 4, 4, 5, 6],\n",
       "         [4, 0, 4, 0, 5],\n",
       "         [0, 0, 5, 5, 6],\n",
       "         [5, 1, 4, 8, 2]],\n",
       "\n",
       "        [[2, 5, 8, 1, 9],\n",
       "         [0, 6, 7, 0, 1],\n",
       "         [0, 4, 2, 6, 9],\n",
       "         [7, 2, 6, 8, 1]],\n",
       "\n",
       "        [[2, 2, 8, 6, 6],\n",
       "         [8, 2, 8, 8, 5],\n",
       "         [2, 1, 9, 8, 6],\n",
       "         [0, 4, 8, 2, 9]]],\n",
       "\n",
       "\n",
       "       [[[2, 6, 8, 2, 9],\n",
       "         [4, 0, 2, 3, 1],\n",
       "         [4, 8, 4, 3, 1],\n",
       "         [9, 9, 4, 8, 5]],\n",
       "\n",
       "        [[7, 6, 4, 9, 2],\n",
       "         [3, 9, 5, 6, 9],\n",
       "         [9, 5, 9, 4, 1],\n",
       "         [3, 8, 6, 4, 3]],\n",
       "\n",
       "        [[2, 3, 6, 9, 0],\n",
       "         [4, 2, 5, 3, 4],\n",
       "         [7, 1, 4, 8, 0],\n",
       "         [5, 9, 9, 8, 4]]]])"
      ]
     },
     "execution_count": 19,
     "metadata": {},
     "output_type": "execute_result"
    }
   ],
   "source": [
    "a4"
   ]
  },
  {
   "cell_type": "code",
   "execution_count": 20,
   "id": "0da34922",
   "metadata": {},
   "outputs": [
    {
     "data": {
      "text/plain": [
       "(2, 3, 4, 5)"
      ]
     },
     "execution_count": 20,
     "metadata": {},
     "output_type": "execute_result"
    }
   ],
   "source": [
    "a4.shape"
   ]
  },
  {
   "cell_type": "code",
   "execution_count": 21,
   "id": "1f1bed65",
   "metadata": {},
   "outputs": [
    {
     "data": {
      "text/plain": [
       "4"
      ]
     },
     "execution_count": 21,
     "metadata": {},
     "output_type": "execute_result"
    }
   ],
   "source": [
    "a4.ndim"
   ]
  },
  {
   "cell_type": "code",
   "execution_count": 22,
   "id": "7672e680",
   "metadata": {},
   "outputs": [
    {
     "data": {
      "text/plain": [
       "array([[[[8, 4, 4, 5, 6],\n",
       "         [4, 0, 4, 0, 5],\n",
       "         [0, 0, 5, 5, 6],\n",
       "         [5, 1, 4, 8, 2]],\n",
       "\n",
       "        [[2, 5, 8, 1, 9],\n",
       "         [0, 6, 7, 0, 1],\n",
       "         [0, 4, 2, 6, 9],\n",
       "         [7, 2, 6, 8, 1]],\n",
       "\n",
       "        [[2, 2, 8, 6, 6],\n",
       "         [8, 2, 8, 8, 5],\n",
       "         [2, 1, 9, 8, 6],\n",
       "         [0, 4, 8, 2, 9]]],\n",
       "\n",
       "\n",
       "       [[[2, 6, 8, 2, 9],\n",
       "         [4, 0, 2, 3, 1],\n",
       "         [4, 8, 4, 3, 1],\n",
       "         [9, 9, 4, 8, 5]],\n",
       "\n",
       "        [[7, 6, 4, 9, 2],\n",
       "         [3, 9, 5, 6, 9],\n",
       "         [9, 5, 9, 4, 1],\n",
       "         [3, 8, 6, 4, 3]],\n",
       "\n",
       "        [[2, 3, 6, 9, 0],\n",
       "         [4, 2, 5, 3, 4],\n",
       "         [7, 1, 4, 8, 0],\n",
       "         [5, 9, 9, 8, 4]]]])"
      ]
     },
     "execution_count": 22,
     "metadata": {},
     "output_type": "execute_result"
    }
   ],
   "source": [
    "a4"
   ]
  },
  {
   "cell_type": "code",
   "execution_count": 23,
   "id": "03a94b39",
   "metadata": {},
   "outputs": [
    {
     "data": {
      "text/plain": [
       "array([[[[8, 4, 4, 5],\n",
       "         [4, 0, 4, 0],\n",
       "         [0, 0, 5, 5],\n",
       "         [5, 1, 4, 8]],\n",
       "\n",
       "        [[2, 5, 8, 1],\n",
       "         [0, 6, 7, 0],\n",
       "         [0, 4, 2, 6],\n",
       "         [7, 2, 6, 8]],\n",
       "\n",
       "        [[2, 2, 8, 6],\n",
       "         [8, 2, 8, 8],\n",
       "         [2, 1, 9, 8],\n",
       "         [0, 4, 8, 2]]],\n",
       "\n",
       "\n",
       "       [[[2, 6, 8, 2],\n",
       "         [4, 0, 2, 3],\n",
       "         [4, 8, 4, 3],\n",
       "         [9, 9, 4, 8]],\n",
       "\n",
       "        [[7, 6, 4, 9],\n",
       "         [3, 9, 5, 6],\n",
       "         [9, 5, 9, 4],\n",
       "         [3, 8, 6, 4]],\n",
       "\n",
       "        [[2, 3, 6, 9],\n",
       "         [4, 2, 5, 3],\n",
       "         [7, 1, 4, 8],\n",
       "         [5, 9, 9, 8]]]])"
      ]
     },
     "execution_count": 23,
     "metadata": {},
     "output_type": "execute_result"
    }
   ],
   "source": [
    "a4[:, :, :, :4]"
   ]
  },
  {
   "cell_type": "code",
   "execution_count": 24,
   "id": "7596541c",
   "metadata": {},
   "outputs": [
    {
     "data": {
      "text/plain": [
       "array([[[[8, 4],\n",
       "         [4, 0],\n",
       "         [0, 0],\n",
       "         [5, 1]],\n",
       "\n",
       "        [[2, 5],\n",
       "         [0, 6],\n",
       "         [0, 4],\n",
       "         [7, 2]],\n",
       "\n",
       "        [[2, 2],\n",
       "         [8, 2],\n",
       "         [2, 1],\n",
       "         [0, 4]]],\n",
       "\n",
       "\n",
       "       [[[2, 6],\n",
       "         [4, 0],\n",
       "         [4, 8],\n",
       "         [9, 9]],\n",
       "\n",
       "        [[7, 6],\n",
       "         [3, 9],\n",
       "         [9, 5],\n",
       "         [3, 8]],\n",
       "\n",
       "        [[2, 3],\n",
       "         [4, 2],\n",
       "         [7, 1],\n",
       "         [5, 9]]]])"
      ]
     },
     "execution_count": 24,
     "metadata": {},
     "output_type": "execute_result"
    }
   ],
   "source": [
    "a4[:, :, :, :2]"
   ]
  },
  {
   "cell_type": "code",
   "execution_count": 25,
   "id": "2aad0ef6",
   "metadata": {},
   "outputs": [
    {
     "data": {
      "text/plain": [
       "array([[[[8, 4, 4],\n",
       "         [4, 0, 4],\n",
       "         [0, 0, 5],\n",
       "         [5, 1, 4]],\n",
       "\n",
       "        [[2, 5, 8],\n",
       "         [0, 6, 7],\n",
       "         [0, 4, 2],\n",
       "         [7, 2, 6]],\n",
       "\n",
       "        [[2, 2, 8],\n",
       "         [8, 2, 8],\n",
       "         [2, 1, 9],\n",
       "         [0, 4, 8]]],\n",
       "\n",
       "\n",
       "       [[[2, 6, 8],\n",
       "         [4, 0, 2],\n",
       "         [4, 8, 4],\n",
       "         [9, 9, 4]],\n",
       "\n",
       "        [[7, 6, 4],\n",
       "         [3, 9, 5],\n",
       "         [9, 5, 9],\n",
       "         [3, 8, 6]],\n",
       "\n",
       "        [[2, 3, 6],\n",
       "         [4, 2, 5],\n",
       "         [7, 1, 4],\n",
       "         [5, 9, 9]]]])"
      ]
     },
     "execution_count": 25,
     "metadata": {},
     "output_type": "execute_result"
    }
   ],
   "source": [
    "a4[:, :, :, :3]"
   ]
  },
  {
   "cell_type": "code",
   "execution_count": 26,
   "id": "8750b99e",
   "metadata": {},
   "outputs": [
    {
     "data": {
      "text/plain": [
       "array([[[[8],\n",
       "         [4],\n",
       "         [0],\n",
       "         [5]],\n",
       "\n",
       "        [[2],\n",
       "         [0],\n",
       "         [0],\n",
       "         [7]],\n",
       "\n",
       "        [[2],\n",
       "         [8],\n",
       "         [2],\n",
       "         [0]]],\n",
       "\n",
       "\n",
       "       [[[2],\n",
       "         [4],\n",
       "         [4],\n",
       "         [9]],\n",
       "\n",
       "        [[7],\n",
       "         [3],\n",
       "         [9],\n",
       "         [3]],\n",
       "\n",
       "        [[2],\n",
       "         [4],\n",
       "         [7],\n",
       "         [5]]]])"
      ]
     },
     "execution_count": 26,
     "metadata": {},
     "output_type": "execute_result"
    }
   ],
   "source": [
    "a4[:, :, :, :1]"
   ]
  },
  {
   "cell_type": "code",
   "execution_count": 5,
   "id": "b043f814",
   "metadata": {},
   "outputs": [
    {
     "data": {
      "text/plain": [
       "array([1, 2, 3])"
      ]
     },
     "execution_count": 5,
     "metadata": {},
     "output_type": "execute_result"
    }
   ],
   "source": [
    "a1"
   ]
  },
  {
   "cell_type": "code",
   "execution_count": 10,
   "id": "08a679a0",
   "metadata": {},
   "outputs": [],
   "source": [
    "ones=np.ones((1,3))"
   ]
  },
  {
   "cell_type": "code",
   "execution_count": 11,
   "id": "d6f2c6cc",
   "metadata": {},
   "outputs": [
    {
     "data": {
      "text/plain": [
       "array([[1., 1., 1.]])"
      ]
     },
     "execution_count": 11,
     "metadata": {},
     "output_type": "execute_result"
    }
   ],
   "source": [
    "ones"
   ]
  },
  {
   "cell_type": "code",
   "execution_count": 12,
   "id": "bc328960",
   "metadata": {},
   "outputs": [],
   "source": [
    "ones=np.ones(3)"
   ]
  },
  {
   "cell_type": "code",
   "execution_count": 13,
   "id": "4413bd07",
   "metadata": {},
   "outputs": [
    {
     "data": {
      "text/plain": [
       "array([1., 1., 1.])"
      ]
     },
     "execution_count": 13,
     "metadata": {},
     "output_type": "execute_result"
    }
   ],
   "source": [
    "ones"
   ]
  },
  {
   "cell_type": "code",
   "execution_count": 14,
   "id": "d1e25044",
   "metadata": {},
   "outputs": [
    {
     "data": {
      "text/plain": [
       "array([2., 3., 4.])"
      ]
     },
     "execution_count": 14,
     "metadata": {},
     "output_type": "execute_result"
    }
   ],
   "source": [
    "a1+ones"
   ]
  },
  {
   "cell_type": "code",
   "execution_count": 15,
   "id": "07ccc385",
   "metadata": {},
   "outputs": [
    {
     "data": {
      "text/plain": [
       "array([0., 1., 2.])"
      ]
     },
     "execution_count": 15,
     "metadata": {},
     "output_type": "execute_result"
    }
   ],
   "source": [
    "a1-ones"
   ]
  },
  {
   "cell_type": "code",
   "execution_count": 16,
   "id": "29704eb6",
   "metadata": {},
   "outputs": [
    {
     "data": {
      "text/plain": [
       "array([1., 2., 3.])"
      ]
     },
     "execution_count": 16,
     "metadata": {},
     "output_type": "execute_result"
    }
   ],
   "source": [
    "a1*ones"
   ]
  },
  {
   "cell_type": "code",
   "execution_count": 21,
   "id": "e63359a1",
   "metadata": {},
   "outputs": [
    {
     "data": {
      "text/plain": [
       "array([1, 2, 3])"
      ]
     },
     "execution_count": 21,
     "metadata": {},
     "output_type": "execute_result"
    }
   ],
   "source": [
    "a1"
   ]
  },
  {
   "cell_type": "code",
   "execution_count": 19,
   "id": "84bd5a05",
   "metadata": {},
   "outputs": [
    {
     "data": {
      "text/plain": [
       "array([[1. , 2. , 3.3],\n",
       "       [4. , 5. , 6.5]])"
      ]
     },
     "execution_count": 19,
     "metadata": {},
     "output_type": "execute_result"
    }
   ],
   "source": [
    "a2"
   ]
  },
  {
   "cell_type": "code",
   "execution_count": 20,
   "id": "69703c21",
   "metadata": {},
   "outputs": [
    {
     "data": {
      "text/plain": [
       "array([[ 1. ,  4. ,  9.9],\n",
       "       [ 4. , 10. , 19.5]])"
      ]
     },
     "execution_count": 20,
     "metadata": {},
     "output_type": "execute_result"
    }
   ],
   "source": [
    "a1*a2"
   ]
  },
  {
   "cell_type": "code",
   "execution_count": 23,
   "id": "6a5d42b1",
   "metadata": {},
   "outputs": [
    {
     "data": {
      "text/plain": [
       "array([[[ 1,  2,  3],\n",
       "        [ 4,  5,  6],\n",
       "        [ 7,  8,  9]],\n",
       "\n",
       "       [[10, 11, 12],\n",
       "        [13, 14, 15],\n",
       "        [16, 17, 18]]])"
      ]
     },
     "execution_count": 23,
     "metadata": {},
     "output_type": "execute_result"
    }
   ],
   "source": [
    "a3"
   ]
  },
  {
   "cell_type": "code",
   "execution_count": 25,
   "id": "7d660576",
   "metadata": {},
   "outputs": [
    {
     "ename": "ValueError",
     "evalue": "operands could not be broadcast together with shapes (2,3) (2,3,3) ",
     "output_type": "error",
     "traceback": [
      "\u001b[1;31m---------------------------------------------------------------------------\u001b[0m",
      "\u001b[1;31mValueError\u001b[0m                                Traceback (most recent call last)",
      "\u001b[1;32m~\\AppData\\Local\\Temp/ipykernel_3548/1739192805.py\u001b[0m in \u001b[0;36m<module>\u001b[1;34m\u001b[0m\n\u001b[1;32m----> 1\u001b[1;33m \u001b[0ma2\u001b[0m\u001b[1;33m*\u001b[0m\u001b[0ma3\u001b[0m\u001b[1;33m\u001b[0m\u001b[1;33m\u001b[0m\u001b[0m\n\u001b[0m",
      "\u001b[1;31mValueError\u001b[0m: operands could not be broadcast together with shapes (2,3) (2,3,3) "
     ]
    }
   ],
   "source": [
    "a2*a3"
   ]
  },
  {
   "cell_type": "code",
   "execution_count": 26,
   "id": "f63f1817",
   "metadata": {},
   "outputs": [
    {
     "data": {
      "text/plain": [
       "array([1., 2., 3.])"
      ]
     },
     "execution_count": 26,
     "metadata": {},
     "output_type": "execute_result"
    }
   ],
   "source": [
    "a1/ones"
   ]
  },
  {
   "cell_type": "code",
   "execution_count": 28,
   "id": "4265eafc",
   "metadata": {},
   "outputs": [
    {
     "data": {
      "text/plain": [
       "array([[1.        , 1.        , 1.1       ],\n",
       "       [4.        , 2.5       , 2.16666667]])"
      ]
     },
     "execution_count": 28,
     "metadata": {},
     "output_type": "execute_result"
    }
   ],
   "source": [
    "a2/a1"
   ]
  },
  {
   "cell_type": "code",
   "execution_count": 27,
   "id": "e5014976",
   "metadata": {},
   "outputs": [
    {
     "data": {
      "text/plain": [
       "array([[1., 1., 1.],\n",
       "       [4., 2., 2.]])"
      ]
     },
     "execution_count": 27,
     "metadata": {},
     "output_type": "execute_result"
    }
   ],
   "source": [
    "a2//a1"
   ]
  },
  {
   "cell_type": "code",
   "execution_count": 30,
   "id": "18a289f6",
   "metadata": {},
   "outputs": [
    {
     "data": {
      "text/plain": [
       "array([[1. , 2. , 3.3],\n",
       "       [4. , 5. , 6.5]])"
      ]
     },
     "execution_count": 30,
     "metadata": {},
     "output_type": "execute_result"
    }
   ],
   "source": [
    "a2"
   ]
  },
  {
   "cell_type": "code",
   "execution_count": 29,
   "id": "1c2236d1",
   "metadata": {},
   "outputs": [
    {
     "data": {
      "text/plain": [
       "array([[ 1.  ,  4.  , 10.89],\n",
       "       [16.  , 25.  , 42.25]])"
      ]
     },
     "execution_count": 29,
     "metadata": {},
     "output_type": "execute_result"
    }
   ],
   "source": [
    "a2**2"
   ]
  },
  {
   "cell_type": "code",
   "execution_count": 31,
   "id": "fa4c5038",
   "metadata": {},
   "outputs": [
    {
     "data": {
      "text/plain": [
       "array([[ 1.  ,  4.  , 10.89],\n",
       "       [16.  , 25.  , 42.25]])"
      ]
     },
     "execution_count": 31,
     "metadata": {},
     "output_type": "execute_result"
    }
   ],
   "source": [
    "np.square(a2)"
   ]
  },
  {
   "cell_type": "code",
   "execution_count": 33,
   "id": "f165ff55",
   "metadata": {},
   "outputs": [
    {
     "data": {
      "text/plain": [
       "array([2., 3., 4.])"
      ]
     },
     "execution_count": 33,
     "metadata": {},
     "output_type": "execute_result"
    }
   ],
   "source": [
    "a1+ones"
   ]
  },
  {
   "cell_type": "code",
   "execution_count": 32,
   "id": "dfa03f2b",
   "metadata": {},
   "outputs": [
    {
     "data": {
      "text/plain": [
       "array([2., 3., 4.])"
      ]
     },
     "execution_count": 32,
     "metadata": {},
     "output_type": "execute_result"
    }
   ],
   "source": [
    "np.add(a1,ones)"
   ]
  },
  {
   "cell_type": "code",
   "execution_count": 34,
   "id": "55d25a13",
   "metadata": {},
   "outputs": [
    {
     "data": {
      "text/plain": [
       "array([1, 0, 1], dtype=int32)"
      ]
     },
     "execution_count": 34,
     "metadata": {},
     "output_type": "execute_result"
    }
   ],
   "source": [
    "a1%2"
   ]
  },
  {
   "cell_type": "code",
   "execution_count": 35,
   "id": "86e64a84",
   "metadata": {},
   "outputs": [
    {
     "data": {
      "text/plain": [
       "array([0.5, 1. , 1.5])"
      ]
     },
     "execution_count": 35,
     "metadata": {},
     "output_type": "execute_result"
    }
   ],
   "source": [
    "a1/2"
   ]
  },
  {
   "cell_type": "code",
   "execution_count": 36,
   "id": "77e667ff",
   "metadata": {},
   "outputs": [
    {
     "data": {
      "text/plain": [
       "array([[1. , 0. , 1.3],\n",
       "       [0. , 1. , 0.5]])"
      ]
     },
     "execution_count": 36,
     "metadata": {},
     "output_type": "execute_result"
    }
   ],
   "source": [
    "a2%2"
   ]
  },
  {
   "cell_type": "code",
   "execution_count": 37,
   "id": "8eca4679",
   "metadata": {},
   "outputs": [
    {
     "data": {
      "text/plain": [
       "array([ 2.71828183,  7.3890561 , 20.08553692])"
      ]
     },
     "execution_count": 37,
     "metadata": {},
     "output_type": "execute_result"
    }
   ],
   "source": [
    "np.exp(a1)"
   ]
  },
  {
   "cell_type": "code",
   "execution_count": 38,
   "id": "60909062",
   "metadata": {},
   "outputs": [
    {
     "data": {
      "text/plain": [
       "array([0.        , 0.69314718, 1.09861229])"
      ]
     },
     "execution_count": 38,
     "metadata": {},
     "output_type": "execute_result"
    }
   ],
   "source": [
    "np.log(a1)"
   ]
  },
  {
   "cell_type": "code",
   "execution_count": 39,
   "id": "f7e342cf",
   "metadata": {},
   "outputs": [],
   "source": [
    "listy_list=[1,2,3]"
   ]
  },
  {
   "cell_type": "code",
   "execution_count": 40,
   "id": "b15a93ad",
   "metadata": {},
   "outputs": [
    {
     "data": {
      "text/plain": [
       "list"
      ]
     },
     "execution_count": 40,
     "metadata": {},
     "output_type": "execute_result"
    }
   ],
   "source": [
    "type(listy_list)"
   ]
  },
  {
   "cell_type": "code",
   "execution_count": 41,
   "id": "3ac71298",
   "metadata": {},
   "outputs": [
    {
     "data": {
      "text/plain": [
       "6"
      ]
     },
     "execution_count": 41,
     "metadata": {},
     "output_type": "execute_result"
    }
   ],
   "source": [
    "sum(listy_list)"
   ]
  },
  {
   "cell_type": "code",
   "execution_count": 42,
   "id": "ad858900",
   "metadata": {},
   "outputs": [
    {
     "data": {
      "text/plain": [
       "array([1, 2, 3])"
      ]
     },
     "execution_count": 42,
     "metadata": {},
     "output_type": "execute_result"
    }
   ],
   "source": [
    "a1"
   ]
  },
  {
   "cell_type": "code",
   "execution_count": 43,
   "id": "732cba71",
   "metadata": {},
   "outputs": [
    {
     "data": {
      "text/plain": [
       "numpy.ndarray"
      ]
     },
     "execution_count": 43,
     "metadata": {},
     "output_type": "execute_result"
    }
   ],
   "source": [
    "type(a1)"
   ]
  },
  {
   "cell_type": "code",
   "execution_count": 44,
   "id": "d26d5e7e",
   "metadata": {},
   "outputs": [
    {
     "data": {
      "text/plain": [
       "6"
      ]
     },
     "execution_count": 44,
     "metadata": {},
     "output_type": "execute_result"
    }
   ],
   "source": [
    "sum(a1)"
   ]
  },
  {
   "cell_type": "code",
   "execution_count": 45,
   "id": "11144611",
   "metadata": {},
   "outputs": [
    {
     "data": {
      "text/plain": [
       "6"
      ]
     },
     "execution_count": 45,
     "metadata": {},
     "output_type": "execute_result"
    }
   ],
   "source": [
    "np.sum(a1)"
   ]
  },
  {
   "cell_type": "code",
   "execution_count": 46,
   "id": "5aea73af",
   "metadata": {},
   "outputs": [],
   "source": [
    "massive_array=np.random.random(100000)"
   ]
  },
  {
   "cell_type": "code",
   "execution_count": 47,
   "id": "9f8cfb2f",
   "metadata": {},
   "outputs": [
    {
     "data": {
      "text/plain": [
       "100000"
      ]
     },
     "execution_count": 47,
     "metadata": {},
     "output_type": "execute_result"
    }
   ],
   "source": [
    "massive_array.size"
   ]
  },
  {
   "cell_type": "code",
   "execution_count": 49,
   "id": "ceeda98e",
   "metadata": {},
   "outputs": [
    {
     "data": {
      "text/plain": [
       "array([0.29210427, 0.33448265, 0.71548331, 0.93828514, 0.5307973 ,\n",
       "       0.90371713, 0.54595682, 0.68724049, 0.61409726, 0.06217189])"
      ]
     },
     "execution_count": 49,
     "metadata": {},
     "output_type": "execute_result"
    }
   ],
   "source": [
    "massive_array[:10]"
   ]
  },
  {
   "cell_type": "code",
   "execution_count": 50,
   "id": "feb82235",
   "metadata": {},
   "outputs": [
    {
     "name": "stdout",
     "output_type": "stream",
     "text": [
      "13.4 ms ± 663 µs per loop (mean ± std. dev. of 7 runs, 100 loops each)\n",
      "99.3 µs ± 2.39 µs per loop (mean ± std. dev. of 7 runs, 10000 loops each)\n"
     ]
    }
   ],
   "source": [
    "%timeit sum(massive_array)\n",
    "%timeit np.sum(massive_array)"
   ]
  },
  {
   "cell_type": "code",
   "execution_count": 51,
   "id": "ef4afab4",
   "metadata": {},
   "outputs": [
    {
     "data": {
      "text/plain": [
       "array([[1. , 2. , 3.3],\n",
       "       [4. , 5. , 6.5]])"
      ]
     },
     "execution_count": 51,
     "metadata": {},
     "output_type": "execute_result"
    }
   ],
   "source": [
    "a2"
   ]
  },
  {
   "cell_type": "code",
   "execution_count": 52,
   "id": "823673f0",
   "metadata": {},
   "outputs": [
    {
     "data": {
      "text/plain": [
       "3.6333333333333333"
      ]
     },
     "execution_count": 52,
     "metadata": {},
     "output_type": "execute_result"
    }
   ],
   "source": [
    "np.mean(a2)"
   ]
  },
  {
   "cell_type": "code",
   "execution_count": 53,
   "id": "643d7100",
   "metadata": {},
   "outputs": [
    {
     "data": {
      "text/plain": [
       "6.5"
      ]
     },
     "execution_count": 53,
     "metadata": {},
     "output_type": "execute_result"
    }
   ],
   "source": [
    "np.max(a2)"
   ]
  },
  {
   "cell_type": "code",
   "execution_count": 54,
   "id": "34a344ae",
   "metadata": {},
   "outputs": [
    {
     "data": {
      "text/plain": [
       "1.0"
      ]
     },
     "execution_count": 54,
     "metadata": {},
     "output_type": "execute_result"
    }
   ],
   "source": [
    "np.min(a2)"
   ]
  },
  {
   "cell_type": "code",
   "execution_count": 55,
   "id": "2f5d5bc0",
   "metadata": {},
   "outputs": [
    {
     "data": {
      "text/plain": [
       "1.8226964152656422"
      ]
     },
     "execution_count": 55,
     "metadata": {},
     "output_type": "execute_result"
    }
   ],
   "source": [
    "np.std(a2)"
   ]
  },
  {
   "cell_type": "code",
   "execution_count": 56,
   "id": "255fffe8",
   "metadata": {},
   "outputs": [
    {
     "data": {
      "text/plain": [
       "3.3222222222222224"
      ]
     },
     "execution_count": 56,
     "metadata": {},
     "output_type": "execute_result"
    }
   ],
   "source": [
    "np.var(a2)"
   ]
  },
  {
   "cell_type": "code",
   "execution_count": 57,
   "id": "76e0db27",
   "metadata": {},
   "outputs": [
    {
     "data": {
      "text/plain": [
       "1.8226964152656422"
      ]
     },
     "execution_count": 57,
     "metadata": {},
     "output_type": "execute_result"
    }
   ],
   "source": [
    "np.sqrt(np.var(a2))"
   ]
  },
  {
   "cell_type": "code",
   "execution_count": null,
   "id": "bfc59427",
   "metadata": {},
   "outputs": [],
   "source": []
  }
 ],
 "metadata": {
  "kernelspec": {
   "display_name": "Python 3 (ipykernel)",
   "language": "python",
   "name": "python3"
  },
  "language_info": {
   "codemirror_mode": {
    "name": "ipython",
    "version": 3
   },
   "file_extension": ".py",
   "mimetype": "text/x-python",
   "name": "python",
   "nbconvert_exporter": "python",
   "pygments_lexer": "ipython3",
   "version": "3.8.7"
  }
 },
 "nbformat": 4,
 "nbformat_minor": 5
}
